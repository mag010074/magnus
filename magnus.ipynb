{
 "cells": [
  {
   "cell_type": "code",
   "execution_count": 3,
   "id": "284419e4-d38a-4761-947a-ad151162ae35",
   "metadata": {},
   "outputs": [],
   "source": [
    "import pandas as pd"
   ]
  },
  {
   "cell_type": "code",
   "execution_count": 7,
   "id": "123a101f-1373-4e3e-9e61-6c3d023a2bf9",
   "metadata": {},
   "outputs": [],
   "source": [
    "#Specify the file name\n",
    "file_name=\"NYC_Collisions.csv\"\n"
   ]
  },
  {
   "cell_type": "code",
   "execution_count": 9,
   "id": "03492850-c6bc-4858-9449-541d90176cfa",
   "metadata": {},
   "outputs": [
    {
     "name": "stdout",
     "output_type": "stream",
     "text": [
      "   Collision ID      Date      Time        Borough            Street Name  \\\n",
      "0       4491746  1/1/2021  20:00:00          Bronx    Bruckner Expressway   \n",
      "1       4441905  1/1/2021  05:28:00       Brooklyn       Lafayette Avenue   \n",
      "2       4382769  1/1/2021  06:00:00  Staten Island  West Shore Expressway   \n",
      "3       4380949  1/1/2021  19:30:00          Bronx        Sedgwick Avenue   \n",
      "4       4380940  1/1/2021  07:40:00       Brooklyn         Cortelyou Road   \n",
      "\n",
      "               Cross Street  Latitude  Longitude Contributing Factor  \\\n",
      "0                       NaN  40.83398 -73.826350   Pavement Slippery   \n",
      "1                       NaN  40.68730 -73.973656         Unspecified   \n",
      "2                       NaN       NaN        NaN         Fell Asleep   \n",
      "3  Vancortlandt Avenue West  40.88270 -73.892730                 NaN   \n",
      "4          Mc Donald Avenue  40.63791 -73.978640         Unspecified   \n",
      "\n",
      "        Vehicle Type  Persons Injured  Persons Killed  Pedestrians Injured  \\\n",
      "0  Passenger Vehicle              0.0               0                    0   \n",
      "1  Passenger Vehicle              0.0               0                    0   \n",
      "2  Passenger Vehicle              0.0               0                    0   \n",
      "3       Not Reported              0.0               0                    0   \n",
      "4  Passenger Vehicle              0.0               0                    0   \n",
      "\n",
      "   Pedestrians Killed  Cyclists Injured  Cyclists Killed  Motorists Injured  \\\n",
      "0                   0                 0                0                  0   \n",
      "1                   0                 0                0                  0   \n",
      "2                   0                 0                0                  0   \n",
      "3                   0                 0                0                  0   \n",
      "4                   0                 0                0                  0   \n",
      "\n",
      "   Motorists Killed  \n",
      "0                 0  \n",
      "1                 0  \n",
      "2                 0  \n",
      "3                 0  \n",
      "4                 0  \n",
      "        Collision ID      Date      Time    Borough       Street Name  \\\n",
      "238416       4619581  9/4/2023  04:21:00   Brooklyn     Meeker Avenue   \n",
      "238417       4619685  9/4/2023  08:30:00     Queens  Elbertson Street   \n",
      "238418       4619519  9/4/2023  21:19:00   Brooklyn    Cortelyou Road   \n",
      "238419       4619921  9/4/2023  11:00:00  Manhattan    West 50 Street   \n",
      "238420       4619618  9/4/2023  19:10:00      Bronx     Watson Avenue   \n",
      "\n",
      "           Cross Street   Latitude  Longitude             Contributing Factor  \\\n",
      "238416              NaN  40.715443 -73.951850   Failure to Yield Right-of-Way   \n",
      "238417  Elmhurst Avenue  40.746864 -73.877170                Backing Unsafely   \n",
      "238418   East 17 Street  40.642017 -73.962660                     Unspecified   \n",
      "238419              NaN  40.763790 -73.989655  Driver Inattention/Distraction   \n",
      "238420     Manor Avenue  40.826400 -73.875810  Driver Inattention/Distraction   \n",
      "\n",
      "             Vehicle Type  Persons Injured  Persons Killed  \\\n",
      "238416       Not Reported              1.0               0   \n",
      "238417  Passenger Vehicle              1.0               0   \n",
      "238418  Passenger Vehicle              1.0               0   \n",
      "238419          Transport              0.0               0   \n",
      "238420  Passenger Vehicle              0.0               0   \n",
      "\n",
      "        Pedestrians Injured  Pedestrians Killed  Cyclists Injured  \\\n",
      "238416                    1                   0                 0   \n",
      "238417                    1                   0                 0   \n",
      "238418                    1                   0                 0   \n",
      "238419                    0                   0                 0   \n",
      "238420                    0                   0                 0   \n",
      "\n",
      "        Cyclists Killed  Motorists Injured  Motorists Killed  \n",
      "238416                0                  0                 0  \n",
      "238417                0                  0                 0  \n",
      "238418                0                  0                 0  \n",
      "238419                0                  0                 0  \n",
      "238420                0                  0                 0  \n"
     ]
    }
   ],
   "source": [
    "df=pd.read_csv(file_name)\n",
    "print(df.head())\n",
    "print(df.tail())\n"
   ]
  },
  {
   "cell_type": "code",
   "execution_count": 11,
   "id": "86091609-5cd7-448b-9a2f-325242df3aaf",
   "metadata": {},
   "outputs": [
    {
     "name": "stdout",
     "output_type": "stream",
     "text": [
      "(238421, 18)\n"
     ]
    }
   ],
   "source": [
    "#Get the shape\n",
    "print(df.shape)\n"
   ]
  },
  {
   "cell_type": "code",
   "execution_count": 17,
   "id": "67c13871-e27d-4764-82e5-1d83a0a61740",
   "metadata": {},
   "outputs": [
    {
     "name": "stdout",
     "output_type": "stream",
     "text": [
      "       Collision ID       Latitude      Longitude  Persons Injured  \\\n",
      "count  2.384210e+05  216098.000000  216098.000000    238420.000000   \n",
      "mean   4.500533e+06      40.724492     -73.916623         0.487484   \n",
      "std    6.887904e+04       0.081815       0.084120         0.806650   \n",
      "min    4.073803e+06      40.499710     -74.254960         0.000000   \n",
      "25%    4.440909e+06      40.666386     -73.962950         0.000000   \n",
      "50%    4.500549e+06      40.714690     -73.920610         0.000000   \n",
      "75%    4.560178e+06      40.784048     -73.868616         1.000000   \n",
      "max    4.619988e+06      40.912884     -73.700610        40.000000   \n",
      "\n",
      "       Persons Killed  Pedestrians Injured  Pedestrians Killed  \\\n",
      "count   238421.000000        238421.000000       238421.000000   \n",
      "mean         0.002663             0.079175            0.001200   \n",
      "std          0.053535             0.285696            0.034855   \n",
      "min          0.000000             0.000000            0.000000   \n",
      "25%          0.000000             0.000000            0.000000   \n",
      "50%          0.000000             0.000000            0.000000   \n",
      "75%          0.000000             0.000000            0.000000   \n",
      "max          3.000000            19.000000            2.000000   \n",
      "\n",
      "       Cyclists Injured  Cyclists Killed  Motorists Injured  Motorists Killed  \n",
      "count     238421.000000    238421.000000       238421.00000     238421.000000  \n",
      "mean           0.045852         0.000197            0.34153          0.001124  \n",
      "std            0.212723         0.014039            0.77766          0.036041  \n",
      "min            0.000000         0.000000            0.00000          0.000000  \n",
      "25%            0.000000         0.000000            0.00000          0.000000  \n",
      "50%            0.000000         0.000000            0.00000          0.000000  \n",
      "75%            0.000000         0.000000            0.00000          0.000000  \n",
      "max            3.000000         1.000000           40.00000          3.000000  \n"
     ]
    }
   ],
   "source": [
    "#Describe the numerical columns\n",
    "print(df.describe())"
   ]
  },
  {
   "cell_type": "code",
   "execution_count": 21,
   "id": "0980ef84-d648-4f67-8962-953f40286ae1",
   "metadata": {},
   "outputs": [
    {
     "name": "stdout",
     "output_type": "stream",
     "text": [
      "Index(['Collision ID', 'Date', 'Time', 'Borough', 'Street Name',\n",
      "       'Cross Street', 'Latitude', 'Longitude', 'Contributing Factor',\n",
      "       'Vehicle Type', 'Persons Injured', 'Persons Killed',\n",
      "       'Pedestrians Injured', 'Pedestrians Killed', 'Cyclists Injured',\n",
      "       'Cyclists Killed', 'Motorists Injured', 'Motorists Killed'],\n",
      "      dtype='object')\n",
      "Collision ID             int64\n",
      "Date                    object\n",
      "Time                    object\n",
      "Borough                 object\n",
      "Street Name             object\n",
      "Cross Street            object\n",
      "Latitude               float64\n",
      "Longitude              float64\n",
      "Contributing Factor     object\n",
      "Vehicle Type            object\n",
      "Persons Injured        float64\n",
      "Persons Killed           int64\n",
      "Pedestrians Injured      int64\n",
      "Pedestrians Killed       int64\n",
      "Cyclists Injured         int64\n",
      "Cyclists Killed          int64\n",
      "Motorists Injured        int64\n",
      "Motorists Killed         int64\n",
      "dtype: object\n"
     ]
    }
   ],
   "source": [
    "#Display column headers with data  types\n",
    "print(df.columns)\n",
    "print(df.dtypes)\n"
   ]
  },
  {
   "cell_type": "code",
   "execution_count": null,
   "id": "43ee243e-268e-47ae-b115-b60c0ddd7eee",
   "metadata": {},
   "outputs": [],
   "source": []
  }
 ],
 "metadata": {
  "kernelspec": {
   "display_name": "Python [conda env:anaconda]",
   "language": "python",
   "name": "conda-env-anaconda-py"
  },
  "language_info": {
   "codemirror_mode": {
    "name": "ipython",
    "version": 3
   },
   "file_extension": ".py",
   "mimetype": "text/x-python",
   "name": "python",
   "nbconvert_exporter": "python",
   "pygments_lexer": "ipython3",
   "version": "3.12.7"
  }
 },
 "nbformat": 4,
 "nbformat_minor": 5
}
